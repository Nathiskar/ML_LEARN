{
  "nbformat": 4,
  "nbformat_minor": 0,
  "metadata": {
    "colab": {
      "provenance": [],
      "authorship_tag": "ABX9TyOfHmLzGv/eFif7u19hYtk9",
      "include_colab_link": true
    },
    "kernelspec": {
      "name": "python3",
      "display_name": "Python 3"
    },
    "language_info": {
      "name": "python"
    }
  },
  "cells": [
    {
      "cell_type": "markdown",
      "metadata": {
        "id": "view-in-github",
        "colab_type": "text"
      },
      "source": [
        "<a href=\"https://colab.research.google.com/github/Nathiskar/ML_LEARN/blob/main/StudentGradeLR.ipynb\" target=\"_parent\"><img src=\"https://colab.research.google.com/assets/colab-badge.svg\" alt=\"Open In Colab\"/></a>"
      ]
    },
    {
      "cell_type": "markdown",
      "source": [
        "Regression Working File"
      ],
      "metadata": {
        "id": "4ecrKhZzey7I"
      }
    },
    {
      "cell_type": "code",
      "execution_count": 2,
      "metadata": {
        "id": "NlI5_P_gerSE"
      },
      "outputs": [],
      "source": [
        "import pandas as pd\n",
        "import numpy as np\n",
        "import sklearn\n",
        "from sklearn import linear_model\n",
        "from sklearn.utils import shuffle"
      ]
    },
    {
      "cell_type": "markdown",
      "source": [
        "Read data from the datasheet"
      ],
      "metadata": {
        "id": "38wHLeF7fbb2"
      }
    },
    {
      "cell_type": "code",
      "source": [
        "data = pd.read_csv(\"/content/student-mat.csv\", sep=\";\")"
      ],
      "metadata": {
        "id": "kspT_fcMexIY"
      },
      "execution_count": 6,
      "outputs": []
    },
    {
      "cell_type": "code",
      "source": [
        "data = data[[\"G1\", \"G2\", \"G3\", \"studytime\", \"failures\", \"absences\"]]"
      ],
      "metadata": {
        "id": "lx-GUc4ef976"
      },
      "execution_count": 7,
      "outputs": []
    },
    {
      "cell_type": "markdown",
      "source": [],
      "metadata": {
        "id": "OPGTiYfdexoo"
      }
    },
    {
      "cell_type": "code",
      "source": [
        "predict = \"G3\""
      ],
      "metadata": {
        "id": "7cqLCiB1gTKZ"
      },
      "execution_count": 8,
      "outputs": []
    },
    {
      "cell_type": "markdown",
      "source": [
        "Input\n"
      ],
      "metadata": {
        "id": "ToxrboWagby6"
      }
    },
    {
      "cell_type": "code",
      "source": [
        "x = np.array(data.drop([predict], axis = 1))"
      ],
      "metadata": {
        "id": "TJMKn_-mgW5t"
      },
      "execution_count": 9,
      "outputs": []
    },
    {
      "cell_type": "markdown",
      "source": [
        "Output"
      ],
      "metadata": {
        "id": "-F7a5fIAhIQQ"
      }
    },
    {
      "cell_type": "code",
      "source": [
        "y = np.array(data[predict])"
      ],
      "metadata": {
        "id": "eeKX1D0Wgn_8"
      },
      "execution_count": 10,
      "outputs": []
    },
    {
      "cell_type": "markdown",
      "source": [
        "spliting the data to Training and Testing"
      ],
      "metadata": {
        "id": "4R0t3K4AhWxP"
      }
    },
    {
      "cell_type": "code",
      "source": [
        "x_train, x_test, y_train, y_test = sklearn.model_selection.train_test_split(x, y, test_size=0.1)"
      ],
      "metadata": {
        "id": "qncM4DR8hTo7"
      },
      "execution_count": 11,
      "outputs": []
    },
    {
      "cell_type": "markdown",
      "source": [
        "Finding Best Fit Line\n"
      ],
      "metadata": {
        "id": "Et70UzDrPE0j"
      }
    },
    {
      "cell_type": "code",
      "source": [
        "linear = linear_model.LinearRegression()\n"
      ],
      "metadata": {
        "id": "fWtSbzQzPEMq"
      },
      "execution_count": 14,
      "outputs": []
    },
    {
      "cell_type": "code",
      "source": [
        "linear.fit(x_train, y_train)"
      ],
      "metadata": {
        "colab": {
          "base_uri": "https://localhost:8080/",
          "height": 74
        },
        "id": "4E4kze0TP4QC",
        "outputId": "29ccb348-9aeb-4c82-9872-f28a1e3b4ac8"
      },
      "execution_count": 15,
      "outputs": [
        {
          "output_type": "execute_result",
          "data": {
            "text/plain": [
              "LinearRegression()"
            ],
            "text/html": [
              "<style>#sk-container-id-1 {color: black;background-color: white;}#sk-container-id-1 pre{padding: 0;}#sk-container-id-1 div.sk-toggleable {background-color: white;}#sk-container-id-1 label.sk-toggleable__label {cursor: pointer;display: block;width: 100%;margin-bottom: 0;padding: 0.3em;box-sizing: border-box;text-align: center;}#sk-container-id-1 label.sk-toggleable__label-arrow:before {content: \"▸\";float: left;margin-right: 0.25em;color: #696969;}#sk-container-id-1 label.sk-toggleable__label-arrow:hover:before {color: black;}#sk-container-id-1 div.sk-estimator:hover label.sk-toggleable__label-arrow:before {color: black;}#sk-container-id-1 div.sk-toggleable__content {max-height: 0;max-width: 0;overflow: hidden;text-align: left;background-color: #f0f8ff;}#sk-container-id-1 div.sk-toggleable__content pre {margin: 0.2em;color: black;border-radius: 0.25em;background-color: #f0f8ff;}#sk-container-id-1 input.sk-toggleable__control:checked~div.sk-toggleable__content {max-height: 200px;max-width: 100%;overflow: auto;}#sk-container-id-1 input.sk-toggleable__control:checked~label.sk-toggleable__label-arrow:before {content: \"▾\";}#sk-container-id-1 div.sk-estimator input.sk-toggleable__control:checked~label.sk-toggleable__label {background-color: #d4ebff;}#sk-container-id-1 div.sk-label input.sk-toggleable__control:checked~label.sk-toggleable__label {background-color: #d4ebff;}#sk-container-id-1 input.sk-hidden--visually {border: 0;clip: rect(1px 1px 1px 1px);clip: rect(1px, 1px, 1px, 1px);height: 1px;margin: -1px;overflow: hidden;padding: 0;position: absolute;width: 1px;}#sk-container-id-1 div.sk-estimator {font-family: monospace;background-color: #f0f8ff;border: 1px dotted black;border-radius: 0.25em;box-sizing: border-box;margin-bottom: 0.5em;}#sk-container-id-1 div.sk-estimator:hover {background-color: #d4ebff;}#sk-container-id-1 div.sk-parallel-item::after {content: \"\";width: 100%;border-bottom: 1px solid gray;flex-grow: 1;}#sk-container-id-1 div.sk-label:hover label.sk-toggleable__label {background-color: #d4ebff;}#sk-container-id-1 div.sk-serial::before {content: \"\";position: absolute;border-left: 1px solid gray;box-sizing: border-box;top: 0;bottom: 0;left: 50%;z-index: 0;}#sk-container-id-1 div.sk-serial {display: flex;flex-direction: column;align-items: center;background-color: white;padding-right: 0.2em;padding-left: 0.2em;position: relative;}#sk-container-id-1 div.sk-item {position: relative;z-index: 1;}#sk-container-id-1 div.sk-parallel {display: flex;align-items: stretch;justify-content: center;background-color: white;position: relative;}#sk-container-id-1 div.sk-item::before, #sk-container-id-1 div.sk-parallel-item::before {content: \"\";position: absolute;border-left: 1px solid gray;box-sizing: border-box;top: 0;bottom: 0;left: 50%;z-index: -1;}#sk-container-id-1 div.sk-parallel-item {display: flex;flex-direction: column;z-index: 1;position: relative;background-color: white;}#sk-container-id-1 div.sk-parallel-item:first-child::after {align-self: flex-end;width: 50%;}#sk-container-id-1 div.sk-parallel-item:last-child::after {align-self: flex-start;width: 50%;}#sk-container-id-1 div.sk-parallel-item:only-child::after {width: 0;}#sk-container-id-1 div.sk-dashed-wrapped {border: 1px dashed gray;margin: 0 0.4em 0.5em 0.4em;box-sizing: border-box;padding-bottom: 0.4em;background-color: white;}#sk-container-id-1 div.sk-label label {font-family: monospace;font-weight: bold;display: inline-block;line-height: 1.2em;}#sk-container-id-1 div.sk-label-container {text-align: center;}#sk-container-id-1 div.sk-container {/* jupyter's `normalize.less` sets `[hidden] { display: none; }` but bootstrap.min.css set `[hidden] { display: none !important; }` so we also need the `!important` here to be able to override the default hidden behavior on the sphinx rendered scikit-learn.org. See: https://github.com/scikit-learn/scikit-learn/issues/21755 */display: inline-block !important;position: relative;}#sk-container-id-1 div.sk-text-repr-fallback {display: none;}</style><div id=\"sk-container-id-1\" class=\"sk-top-container\"><div class=\"sk-text-repr-fallback\"><pre>LinearRegression()</pre><b>In a Jupyter environment, please rerun this cell to show the HTML representation or trust the notebook. <br />On GitHub, the HTML representation is unable to render, please try loading this page with nbviewer.org.</b></div><div class=\"sk-container\" hidden><div class=\"sk-item\"><div class=\"sk-estimator sk-toggleable\"><input class=\"sk-toggleable__control sk-hidden--visually\" id=\"sk-estimator-id-1\" type=\"checkbox\" checked><label for=\"sk-estimator-id-1\" class=\"sk-toggleable__label sk-toggleable__label-arrow\">LinearRegression</label><div class=\"sk-toggleable__content\"><pre>LinearRegression()</pre></div></div></div></div></div>"
            ]
          },
          "metadata": {},
          "execution_count": 15
        }
      ]
    },
    {
      "cell_type": "code",
      "source": [
        "acc = linear.score(x_test, y_test)"
      ],
      "metadata": {
        "id": "5go5fKpziCNq"
      },
      "execution_count": 16,
      "outputs": []
    },
    {
      "cell_type": "code",
      "source": [
        "acc"
      ],
      "metadata": {
        "colab": {
          "base_uri": "https://localhost:8080/"
        },
        "id": "qUfhzv1wPvO7",
        "outputId": "81cc7813-769b-4bb5-b924-35d7e6aa4e0d"
      },
      "execution_count": 19,
      "outputs": [
        {
          "output_type": "execute_result",
          "data": {
            "text/plain": [
              "0.7949484836520633"
            ]
          },
          "metadata": {},
          "execution_count": 19
        }
      ]
    },
    {
      "cell_type": "code",
      "source": [
        "print(\"Co: \" ,linear.coef_)"
      ],
      "metadata": {
        "colab": {
          "base_uri": "https://localhost:8080/"
        },
        "id": "abJQbQqQQJKB",
        "outputId": "6bdda57d-1290-4fa4-c510-8bcba84c0401"
      },
      "execution_count": 22,
      "outputs": [
        {
          "output_type": "stream",
          "name": "stdout",
          "text": [
            "Co:  [ 0.16216986  0.98023431 -0.20171363 -0.23078177  0.04155558]\n"
          ]
        }
      ]
    },
    {
      "cell_type": "code",
      "source": [
        "print(\"Intersept: \", linear.intercept_)"
      ],
      "metadata": {
        "colab": {
          "base_uri": "https://localhost:8080/"
        },
        "id": "aZbIQcDDQeVc",
        "outputId": "febe7559-b310-4cc2-de14-4b2eb7ffe7f5"
      },
      "execution_count": 23,
      "outputs": [
        {
          "output_type": "stream",
          "name": "stdout",
          "text": [
            "Intersept:  -1.6043686551063612\n"
          ]
        }
      ]
    },
    {
      "cell_type": "markdown",
      "source": [
        "Predictions"
      ],
      "metadata": {
        "id": "rt4SJqWBRyB_"
      }
    },
    {
      "cell_type": "code",
      "source": [
        "predictions = linear.predict(x_test)"
      ],
      "metadata": {
        "id": "3vUDnFN7Rxhv"
      },
      "execution_count": 24,
      "outputs": []
    },
    {
      "cell_type": "code",
      "source": [
        "for x in range(len(predictions)):\n",
        "  print(predictions[x], x_test[x], y_test[x])"
      ],
      "metadata": {
        "colab": {
          "base_uri": "https://localhost:8080/"
        },
        "id": "KqREyHkJQyqa",
        "outputId": "4026d10b-640e-4d14-d686-261906be3ef5"
      },
      "execution_count": 25,
      "outputs": [
        {
          "output_type": "stream",
          "name": "stdout",
          "text": [
            "15.12826663583302 [15 15  2  0  0] 15\n",
            "12.241276625808398 [12 12  2  0 13] 13\n",
            "4.032617102189445 [6 5 2 0 4] 6\n",
            "6.219415297749593 [ 6  7  2  1 15] 8\n",
            "15.373547647226863 [16 15  2  0  2] 15\n",
            "6.400536595742723 [8 7 2 0 6] 9\n",
            "7.089812196712712 [10  8  1  3  3] 7\n",
            "5.210512593145172 [7 6 1 0 0] 0\n",
            "9.582468093996553 [10 10  2  0  4] 11\n",
            "11.784165279973507 [12 12  2  0  2] 11\n",
            "18.80076015687453 [19 18  2  0  2] 18\n",
            "12.375500409786849 [10 13  2  1  6] 13\n",
            "8.043059841709171 [9 9 2 1 0] 0\n",
            "14.480476938708792 [15 14  2  0  8] 14\n",
            "13.78288542086004 [11 12  2  0 54] 11\n",
            "4.933792710648805 [5 6 2 0 6] 6\n",
            "9.389777936856946 [ 9  9  1  0 22] 9\n",
            "9.701070568857883 [10 10  1  0  2] 10\n",
            "4.9297402606781615 [6 6 2 0 2] 6\n",
            "13.750698160348175 [12 14  3  0  7] 14\n",
            "9.33718708260271 [ 9 10  2  0  2] 9\n",
            "10.58619627607855 [13 10  2  1 22] 11\n",
            "11.341223089900817 [10 12  3  0  4] 12\n",
            "8.003544908935467 [7 9 1 1 2] 8\n",
            "9.012818529121242 [10 10  4  0  0] 10\n",
            "10.562702406273432 [10 11  2  0  4] 9\n",
            "6.973291200749969 [9 8 4 0 2] 8\n",
            "12.235212369987487 [12 12  1  0  8] 12\n",
            "-1.0347767667712688 [6 0 2 0 0] 0\n",
            "7.41293209782244 [5 9 2 2 6] 7\n",
            "19.265976402650715 [17 18  2  0 21] 18\n",
            "12.64174466741841 [13 13  3  0  0] 14\n",
            "14.74836208660926 [15 14  2  1 20] 13\n",
            "10.072140383485749 [ 8 11  2  0  0] 11\n",
            "13.863236379388596 [12 14  1  0  0] 15\n",
            "14.231143477344304 [15 14  2  0  2] 14\n",
            "7.333151075304608 [8 8 1 0 0] 11\n",
            "11.954440037520476 [11 12  2  0 10] 13\n",
            "7.871332930807283 [10  8  2  0 10] 8\n",
            "15.820542287270195 [17 15  1  0  4] 16\n"
          ]
        }
      ]
    },
    {
      "cell_type": "code",
      "source": [],
      "metadata": {
        "id": "guy2Xvm8SUdy"
      },
      "execution_count": null,
      "outputs": []
    }
  ]
}